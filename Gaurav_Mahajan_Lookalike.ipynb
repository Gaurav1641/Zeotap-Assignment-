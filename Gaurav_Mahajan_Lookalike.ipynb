{
 "cells": [
  {
   "cell_type": "code",
   "execution_count": 39,
   "id": "5977d792-678e-495b-ad3d-b405ddfb1bae",
   "metadata": {},
   "outputs": [
    {
     "name": "stdout",
     "output_type": "stream",
     "text": [
      "Lookalike recommendations saved to: C:\\Users\\gaura\\Downloads\\Lookalike.csv\n"
     ]
    }
   ],
   "source": [
    "#Lookalike Model\n",
    "# Import necessary libraries\n",
    "import pandas as pd\n",
    "from sklearn.preprocessing import MinMaxScaler\n",
    "from sklearn.metrics.pairwise import cosine_similarity\n",
    "\n",
    "# File paths\n",
    "customers_path = r\"C:\\Users\\gaura\\Downloads\\Customers.xlsx\"\n",
    "products_path = r\"C:\\Users\\gaura\\Downloads\\Products.xlsx\"\n",
    "transactions_path = r\"C:\\Users\\gaura\\Downloads\\Transactions.xlsx\"\n",
    "\n",
    "# Load datasets\n",
    "customers_df = pd.read_excel(customers_path)\n",
    "products_df = pd.read_excel(products_path)\n",
    "transactions_df = pd.read_excel(transactions_path)\n",
    "\n",
    "# Merge datasets\n",
    "transactions_products = pd.merge(transactions_df, products_df, on=\"ProductID\", how=\"left\")\n",
    "customer_transactions = pd.merge(transactions_products, customers_df, on=\"CustomerID\", how=\"left\")\n",
    "\n",
    "# Feature Engineering\n",
    "customer_features = customer_transactions.groupby(\"CustomerID\").agg(\n",
    "    total_spend=(\"TotalValue\", \"sum\"),\n",
    "    purchase_frequency=(\"TransactionID\", \"count\"),\n",
    "    avg_quantity=(\"Quantity\", \"mean\"),\n",
    "    unique_categories=(\"Category\", \"nunique\"),\n",
    ").reset_index()\n",
    "\n",
    "# Add metadata\n",
    "customer_profiles = customers_df[[\"CustomerID\", \"Region\", \"SignupDate\"]]\n",
    "customer_features = pd.merge(customer_features, customer_profiles, on=\"CustomerID\", how=\"left\")\n",
    "customer_features = pd.get_dummies(customer_features, columns=[\"Region\"], prefix=\"region\")\n",
    "\n",
    "# Normalize numerical features\n",
    "scaler = MinMaxScaler()\n",
    "numerical_cols = [\"total_spend\", \"purchase_frequency\", \"avg_quantity\", \"unique_categories\"]\n",
    "customer_features[numerical_cols] = scaler.fit_transform(customer_features[numerical_cols])\n",
    "\n",
    "# Compute Cosine Similarity\n",
    "feature_cols = [col for col in customer_features.columns if col not in [\"CustomerID\", \"SignupDate\"]]\n",
    "feature_matrix = customer_features[feature_cols].values\n",
    "similarity_matrix = cosine_similarity(feature_matrix)\n",
    "\n",
    "# Generate Lookalike Recommendations\n",
    "first_20_customers = customer_features.iloc[:20][\"CustomerID\"].values\n",
    "lookalike_results = {}\n",
    "\n",
    "for idx, cust_id in enumerate(first_20_customers):\n",
    "    similar_indices = similarity_matrix[idx].argsort()[::-1][1:4]\n",
    "    similar_customers = [\n",
    "        {\"CustomerID\": customer_features.iloc[i][\"CustomerID\"], \n",
    "         \"SimilarityScore\": round(similarity_matrix[idx][i], 4)}\n",
    "        for i in similar_indices\n",
    "    ]\n",
    "    lookalike_results[cust_id] = similar_customers\n",
    "\n",
    "# Create a structured dataframe for lookalike results\n",
    "lookalike_csv_data = []\n",
    "\n",
    "for cust_id, lookalikes in lookalike_results.items():\n",
    "    row_data = {\"CustomerID\": cust_id}\n",
    "    for i, lookalike in enumerate(lookalikes, start=1):\n",
    "        row_data[f\"SimilarCustomerID_{i}\"] = lookalike[\"CustomerID\"]\n",
    "        row_data[f\"SimilarityScore_{i}\"] = lookalike[\"SimilarityScore\"]\n",
    "    lookalike_csv_data.append(row_data)\n",
    "\n",
    "# Convert the list of dictionaries to a DataFrame\n",
    "lookalike_csv_df = pd.DataFrame(lookalike_csv_data)\n",
    "\n",
    "# Save the dataframe to Lookalike.csv\n",
    "output_file = r\"C:\\Users\\gaura\\Downloads\\Lookalike.csv\"\n",
    "lookalike_csv_df.to_csv(output_file, index=False)\n",
    "\n",
    "print(f\"Lookalike recommendations saved to: {output_file}\")\n"
   ]
  },
  {
   "cell_type": "code",
   "execution_count": null,
   "id": "08951c52-6ca9-4143-af2b-af22728ba433",
   "metadata": {},
   "outputs": [],
   "source": []
  }
 ],
 "metadata": {
  "kernelspec": {
   "display_name": "Python 3 (ipykernel)",
   "language": "python",
   "name": "python3"
  },
  "language_info": {
   "codemirror_mode": {
    "name": "ipython",
    "version": 3
   },
   "file_extension": ".py",
   "mimetype": "text/x-python",
   "name": "python",
   "nbconvert_exporter": "python",
   "pygments_lexer": "ipython3",
   "version": "3.13.1"
  }
 },
 "nbformat": 4,
 "nbformat_minor": 5
}
